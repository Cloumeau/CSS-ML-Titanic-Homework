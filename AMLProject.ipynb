import pandas as pd
import matplotlib.pyplot as plt
titanic_df = pd.read_csv("titanic.csv") 
titanic_df.head(5)
titanic_df.dtypes
titanic_df.drop(['PassengerId', 'Name', 'Ticket', 'Cabin', 'Embarked'], axis=1)
titanic_df = titanic_df[['Pclass', 'Sex', 'Age', 'SibSp', 'Parch', 'Fare', 'Survived']]
titanic_df = titanic_df.replace("male",1)
titanic_df = titanic_df.replace("female",0)
titanic_df.head(5)
titanic_df.dtypes
counts = titanic_df['Survived'].value_counts()
outcomes = (titanic_df['Survived'])

w = 0.15
plt.bar(x=[0,.2], height = counts, width =w)
plt.xticks([0,.2], ("Perished", "Survived"))
plt.ylabel('Outcomes')
plt.title('Titanic Survival Numbers')
plt.show()
PClass_avg = titanic_df["Pclass"].mean()
print(PClass_avg)
Sex_avg = titanic_df["Sex"].mean()
print(Sex_avg)
Age_avg = titanic_df["Age"].mean()
print(Age_avg)
SibSp_avg = titanic_df["SibSp"].mean()
print(SibSp_avg)
Parch_avg = titanic_df["Parch"].mean()
print(Parch_avg)
Fare_avg = titanic_df["Fare"].mean()
print(Fare_avg)
Survived_avg = titanic_df["Survived"].mean()
print(Survived_avg)
group_titanic = titanic_df.groupby("Survived")
mean_titanic_df = group_titanic.mean()
print(mean_titanic_df)
graphTitanic = titanic_df.groupby(titanic_df["Survived"]).mean()
TransTitanic = graphTitanic.T

TitanicAvg = titanic_df[['Survived','Pclass','Sex','Age','SibSp','Parch','Fare']].mean()
TransTitanic['All Passengers Average'] = TitanicAvg
plt.plot(TransTitanic['All Passengers Average'], label = 'All Passenegers Average')
plt.plot(TransTitanic[0], label = 'Perished')
plt.plot(TransTitanic[1], label = 'Survived')
plt.title("Featured Averages")
plt.xlabel("Feature")
plt.ylabel("Average")
plt.legend()
plt.show()
col = TransTitanic.columns.tolist()
col = [col[-1]] + col[:-1]
TransTitanic = TransTitanic[col]
dtitanic = TransTitanic.T
dtitanic
fig, ax = plt.subplots(nrows=2, ncols=3, figsize=(15,10))
names = ['Ticket Class - 1st, 2nd, 3rd', 'Sex - 0 female, 1 male', 'Age','Number Siblings/Spouses Aboard','Number Parents/Children Aboard', 'Fare']
Pclass = dtitanic['Pclass']
Sex = dtitanic['Sex']
Age = dtitanic['Age']
SibSp = dtitanic['SibSp']
Parch = dtitanic['Parch']
Fare = dtitanic['Fare']
titles = ['Total', 'Perished', 'Survived']
ax[0,0].bar(x=0, height=0, width=0, color='blue', label = 'Total')
ax[0,0].bar(x=0, height=0, width=0, color='red', label = 'Perished')
ax[0,0].bar(x=0, height=0, width=0, color='green', label = 'Survived')

ax[0,0].bar(x=[0,.5,1], height=Pclass, width=.5, color=['blue','red','green'])
ax[0,0].axes.xaxis.set_visible(False)
ax[0,0].set_title(names[0])

ax[0,1].bar(x=[0,.5,1], height=Sex, width=.5, color=['blue','red','green'])
ax[0,1].axes.xaxis.set_visible(False)
ax[0,1].set_title(names[0])

ax[0,2].bar(x=[0,.5,1], height=Age, width=.5, color=['blue','red','green'])
ax[0,2].axes.xaxis.set_visible(False)
ax[0,2].set_title(names[0])

ax[1,0].bar(x=[0,.5,1], height=SibSp, width=.5, color=['blue','red','green'])
ax[1,0].axes.xaxis.set_visible(False)
ax[1,0].set_title(names[0])

ax[1,1].bar(x=[0,.5,1], height=Parch, width=.5, color=['blue','red','green'])
ax[1,1].axes.xaxis.set_visible(False)
ax[1,1].set_title(names[0])

ax[1,2].bar(x=[0,.5,1], height=Fare, width=.5, color=['blue','red','green'])
ax[1,2].axes.xaxis.set_visible(False)
ax[1,2].set_title(names[0])

fig.legend()
fig.suptitle("Feature Averages- A Closer Look")
plt.show()
titanic_df.corr()['Survived']
titanic_df.plot(kind='scatter',x='Age',y='Fare',color='purple')
plt.show()
