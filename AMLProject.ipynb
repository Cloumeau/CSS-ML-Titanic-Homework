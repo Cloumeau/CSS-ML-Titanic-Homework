{
 "cells": [
  {
   "cell_type": "code",
   "execution_count": 52,
   "metadata": {},
   "outputs": [],
   "source": [
    "import pandas as pd\n",
    "import matplotlib.pyplot as plt"
   ]
  },
  {
   "cell_type": "code",
   "execution_count": 4,
   "metadata": {},
   "outputs": [],
   "source": [
    "titanic_df = pd.read_csv(\"titanic.csv\") "
   ]
  },
  {
   "cell_type": "code",
   "execution_count": 5,
   "metadata": {},
   "outputs": [],
   "source": [
    "titanic_df.head(5)"
   ]
  },
  {
   "cell_type": "code",
   "execution_count": 6,
   "metadata": {},
   "outputs": [],
   "source": [
    "titanic_df.dtypes"
   ]
  },
  {
   "cell_type": "code",
   "execution_count": 7,
   "metadata": {},
   "outputs": [],
   "source": [
    "titanic_df.drop(['PassengerId', 'Name', 'Ticket', 'Cabin', 'Embarked'], axis=1)"
   ]
  },
  {
   "cell_type": "code",
   "execution_count": 8,
   "metadata": {},
   "outputs": [],
   "source": [
    "titanic_df = titanic_df[['Pclass', 'Sex', 'Age', 'SibSp', 'Parch', 'Fare', 'Survived']]"
   ]
  },
  {
   "cell_type": "code",
   "execution_count": 11,
   "metadata": {},
   "outputs": [],
   "source": [
    "titanic_df = titanic_df.replace(\"male\",1)"
   ]
  },
  {
   "cell_type": "code",
   "execution_count": 12,
   "metadata": {},
   "outputs": [],
   "source": [
    "titanic_df = titanic_df.replace(\"female\",0)"
   ]
  },
  {
   "cell_type": "code",
   "execution_count": 49,
   "metadata": {},
   "outputs": [],
   "source": [
    "titanic_df.head(5)"
   ]
  },
  {
   "cell_type": "code",
   "execution_count": 14,
   "metadata": {},
   "outputs": [],
   "source": [
    "titanic_df.dtypes"
   ]
  },
  {
   "cell_type": "code",
   "execution_count": 64,
   "metadata": {},
   "outputs": [],
   "source": [
    "counts = titanic_df['Survived'].value_counts()\n",
    "outcomes = (titanic_df['Survived'])\n",
    "\n",
    "w = 0.15\n",
    "plt.bar(x=[0,.2], height = counts, width =w)\n",
    "plt.xticks([0,.2], (\"Perished\", \"Survived\"))\n",
    "plt.ylabel('Outcomes')\n",
    "plt.title('Titanic Survival Numbers')\n",
    "plt.show()"
   ]
  },
  {
   "cell_type": "code",
   "execution_count": 61,
   "metadata": {},
   "outputs": [],
   "source": [
    "PClass_avg = titanic_df[\"Pclass\"].mean()\n",
    "print(PClass_avg)"
   ]
  },
  {
   "cell_type": "code",
   "execution_count": 62,
   "metadata": {},
   "outputs": [],
   "source": [
    "Sex_avg = titanic_df[\"Sex\"].mean()\n",
    "print(Sex_avg)"
   ]
  },
  {
   "cell_type": "code",
   "execution_count": 36,
   "metadata": {},
   "outputs": [],
   "source": [
    "Age_avg = titanic_df[\"Age\"].mean()\n",
    "print(Age_avg)"
   ]
  },
  {
   "cell_type": "code",
   "execution_count": 37,
   "metadata": {},
   "outputs": [],
   "source": [
    "SibSp_avg = titanic_df[\"SibSp\"].mean()\n",
    "print(SibSp_avg)"
   ]
  },
  {
   "cell_type": "code",
   "execution_count": 38,
   "metadata": {},
   "outputs": [],
   "source": [
    "Parch_avg = titanic_df[\"Parch\"].mean()\n",
    "print(Parch_avg)"
   ]
  },
  {
   "cell_type": "code",
   "execution_count": 39,
   "metadata": {},
   "outputs": [],
   "source": [
    "Fare_avg = titanic_df[\"Fare\"].mean()\n",
    "print(Fare_avg)"
   ]
  },
  {
   "cell_type": "code",
   "execution_count": 63,
   "metadata": {},
   "outputs": [],
   "source": [
    "Survived_avg = titanic_df[\"Survived\"].mean()\n",
    "print(Survived_avg)"
   ]
  },
  {
   "cell_type": "code",
   "execution_count": 65,
   "metadata": {},
   "outputs": [],
   "source": [
    "group_titanic = titanic_df.groupby(\"Survived\")\n",
    "mean_titanic_df = group_titanic.mean()\n",
    "print(mean_titanic_df)"
   ]
  },
  {
   "cell_type": "code",
   "execution_count": 69,
   "metadata": {},
   "outputs": [],
   "source": [
    "graphTitanic = titanic_df.groupby(titanic_df[\"Survived\"]).mean()\n",
    "TransTitanic = graphTitanic.T\n",
    "\n",
    "TitanicAvg = titanic_df[['Survived','Pclass','Sex','Age','SibSp','Parch','Fare']].mean()\n",
    "TransTitanic['All Passengers Average'] = TitanicAvg\n",
    "plt.plot(TransTitanic['All Passengers Average'], label = 'All Passenegers Average')\n",
    "plt.plot(TransTitanic[0], label = 'Perished')\n",
    "plt.plot(TransTitanic[1], label = 'Survived')\n",
    "plt.title(\"Featured Averages\")\n",
    "plt.xlabel(\"Feature\")\n",
    "plt.ylabel(\"Average\")\n",
    "plt.legend()\n",
    "plt.show()"
   ]
  },
  {
   "cell_type": "code",
   "execution_count": 77,
   "metadata": {},
   "outputs": [],
   "source": [
    "col = TransTitanic.columns.tolist()\n",
    "col = [col[-1]] + col[:-1]\n",
    "TransTitanic = TransTitanic[col]\n",
    "dtitanic = TransTitanic.T\n",
    "dtitanic"
   ]
  },
  {
   "cell_type": "code",
   "execution_count": 78,
   "metadata": {},
   "outputs": [],
   "source": [
    "fig, ax = plt.subplots(nrows=2, ncols=3, figsize=(15,10))\n",
    "names = ['Ticket Class - 1st, 2nd, 3rd', 'Sex - 0 female, 1 male', 'Age','Number Siblings/Spouses Aboard','Number Parents/Children Aboard', 'Fare']\n",
    "Pclass = dtitanic['Pclass']\n",
    "Sex = dtitanic['Sex']\n",
    "Age = dtitanic['Age']\n",
    "SibSp = dtitanic['SibSp']\n",
    "Parch = dtitanic['Parch']\n",
    "Fare = dtitanic['Fare']\n",
    "titles = ['Total', 'Perished', 'Survived']\n",
    "ax[0,0].bar(x=0, height=0, width=0, color='blue', label = 'Total')\n",
    "ax[0,0].bar(x=0, height=0, width=0, color='red', label = 'Perished')\n",
    "ax[0,0].bar(x=0, height=0, width=0, color='green', label = 'Survived')\n",
    "\n",
    "ax[0,0].bar(x=[0,.5,1], height=Pclass, width=.5, color=['blue','red','green'])\n",
    "ax[0,0].axes.xaxis.set_visible(False)\n",
    "ax[0,0].set_title(names[0])\n",
    "\n",
    "ax[0,1].bar(x=[0,.5,1], height=Sex, width=.5, color=['blue','red','green'])\n",
    "ax[0,1].axes.xaxis.set_visible(False)\n",
    "ax[0,1].set_title(names[0])\n",
    "\n",
    "ax[0,2].bar(x=[0,.5,1], height=Age, width=.5, color=['blue','red','green'])\n",
    "ax[0,2].axes.xaxis.set_visible(False)\n",
    "ax[0,2].set_title(names[0])\n",
    "\n",
    "ax[1,0].bar(x=[0,.5,1], height=SibSp, width=.5, color=['blue','red','green'])\n",
    "ax[1,0].axes.xaxis.set_visible(False)\n",
    "ax[1,0].set_title(names[0])\n",
    "\n",
    "ax[1,1].bar(x=[0,.5,1], height=Parch, width=.5, color=['blue','red','green'])\n",
    "ax[1,1].axes.xaxis.set_visible(False)\n",
    "ax[1,1].set_title(names[0])\n",
    "\n",
    "ax[1,2].bar(x=[0,.5,1], height=Fare, width=.5, color=['blue','red','green'])\n",
    "ax[1,2].axes.xaxis.set_visible(False)\n",
    "ax[1,2].set_title(names[0])\n",
    "\n",
    "fig.legend()\n",
    "fig.suptitle(\"Feature Averages- A Closer Look\")\n",
    "plt.show()"
   ]
  },
  {
   "cell_type": "code",
   "execution_count": 71,
   "metadata": {},
   "outputs": [],
   "source": [
    "titanic_df.corr()['Survived']"
   ]
  },
  {
   "cell_type": "code",
   "execution_count": 70,
   "metadata": {
    "scrolled": true
   },
   "outputs": [],
   "source": [
    "titanic_df.plot(kind='scatter',x='Age',y='Fare',color='purple')\n",
    "plt.show()"
   ]
  },
  {
   "cell_type": "code",
   "execution_count": null,
   "metadata": {},
   "outputs": [],
   "source": []
  }
 ],
 "metadata": {
  "kernelspec": {
   "display_name": "Python 3",
   "language": "python",
   "name": "python3"
  },
  "language_info": {
   "codemirror_mode": {
    "name": "ipython",
    "version": 3
   },
   "file_extension": ".py",
   "mimetype": "text/x-python",
   "name": "python",
   "nbconvert_exporter": "python",
   "pygments_lexer": "ipython3",
   "version": "3.8.5"
  }
 },
 "nbformat": 4,
 "nbformat_minor": 4
}
